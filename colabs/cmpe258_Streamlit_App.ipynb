{
  "cells": [
    {
      "cell_type": "markdown",
      "metadata": {
        "id": "4X-J0Qe4zE4S"
      },
      "source": [
        "# Streamlit App - Gender Classification, Facemask Detection, and Facemask Removal\n"
      ]
    },
    {
      "cell_type": "markdown",
      "metadata": {
        "id": "dZhkwl-_GCoi"
      },
      "source": [
        "# Install Streamlit"
      ]
    },
    {
      "cell_type": "code",
      "execution_count": null,
      "metadata": {
        "id": "Jc8PDdp_FtIr"
      },
      "outputs": [],
      "source": [
        "! pip install streamlit\n",
        "! pip install cvlib"
      ]
    },
    {
      "cell_type": "code",
      "execution_count": null,
      "metadata": {
        "id": "Dx59ykQcbYHD"
      },
      "outputs": [],
      "source": [
        "# !unzip /content/gender_detection.model.zip"
      ]
    },
    {
      "cell_type": "markdown",
      "metadata": {
        "id": "LM7XTUlqk2Oa"
      },
      "source": [
        "Create a app.py file for sreamlit to run"
      ]
    },
    {
      "cell_type": "code",
      "execution_count": null,
      "metadata": {
        "colab": {
          "base_uri": "https://localhost:8080/"
        },
        "id": "-efBnS8uXKDq",
        "outputId": "d62f0ca1-fff8-4289-d7c7-5ea0ddfd0dce"
      },
      "outputs": [
        {
          "name": "stdout",
          "output_type": "stream",
          "text": [
            "Drive already mounted at /content/drive; to attempt to forcibly remount, call drive.mount(\"/content/drive\", force_remount=True).\n"
          ]
        }
      ],
      "source": [
        "from google.colab import drive\n",
        "drive.mount('/content/drive')"
      ]
    },
    {
      "cell_type": "code",
      "execution_count": null,
      "metadata": {
        "colab": {
          "base_uri": "https://localhost:8080/"
        },
        "id": "fxaxZK7uTLIg",
        "outputId": "8d1ecdd2-c116-4931-888b-eb67ff8be4ed"
      },
      "outputs": [
        {
          "name": "stdout",
          "output_type": "stream",
          "text": [
            "Overwriting app.py\n"
          ]
        }
      ],
      "source": [
        "%%writefile app.py\n",
        "import numpy as np\n",
        "import streamlit as st\n",
        "import tensorflow as tf\n",
        "import cvlib as cv\n",
        "from tensorflow.keras.preprocessing.image import img_to_array, load_img, ImageDataGenerator\n",
        "import numpy as np\n",
        "import tensorflow as tf\n",
        "import joblib\n",
        "from loadclass import Load_model\n",
        "from vgg_model import VGG19_model\n",
        "import cv2\n",
        "from PIL import Image, ImageOps\n",
        "\n",
        "# Gender Classification\n",
        "def image_preprocessing(image):\n",
        "  input_image = image\n",
        "  face, confidence = cv.detect_face(input_image)\n",
        "  start_X, start_Y, end_X, end_Y = face[0]\n",
        "  resize_image = cv2.resize(input_image[start_Y:end_Y,start_X:end_X],(96,96))\n",
        "  resize_image = resize_image.astype(\"float\")/ 255.0\n",
        "  img_array = img_to_array(resize_image)\n",
        "  final_image = np.expand_dims(img_array, axis=0)\n",
        "  return final_image\n",
        "\n",
        "def predict(preprocessed_image):\n",
        "  my_model = tf.keras.models.load_model('/content/drive/MyDrive/cmp258/temp/gender_detection.model')\n",
        "  labels = [\"Man\",\"Woman\"]\n",
        "  prediction = my_model.predict(preprocessed_image)[0]\n",
        "  Predicted_label = labels[np.argmax(prediction)]\n",
        "  return Predicted_label\n",
        "\n",
        "def gender_classification(opencv_image):\n",
        "    st.subheader(\"Gender Classificaiton\")\n",
        "    preprocessed_image = image_preprocessing(opencv_image)\n",
        "    prediction = predict(preprocessed_image)\n",
        "    return prediction\n",
        "\n",
        "# Facemask Detection\n",
        "def mask_predict(img):\n",
        "    st.subheader(\"Mask Detection\")\n",
        "    # model = joblib.load('/content/drive/MyDrive/cmp258/temp/part-a-model-2.sav')\n",
        "    gcs_path = 'gs://face-mask-detection-model/part-a-model.sav'\n",
        "    model = joblib.load(tf.io.gfile.GFile(gcs_path, 'rb'))\n",
        "    # if type(img) == str:\n",
        "    #     img = cv2.imread(img)\n",
        "    img = cv2.resize(img,(200,200))\n",
        "    img = img / 255\n",
        "    if model.predict(np.array([img]))[0] > 0.5:\n",
        "        predict = 1 \n",
        "        predictString = \"unmasked\"\n",
        "    else:\n",
        "        predict = 0\n",
        "        predictString = \"masked\"\n",
        "      \n",
        "    st.write(\"Facemask Detection: This person is: \",  predictString)\n",
        "    return predict\n",
        "\n",
        "# Facemask Removal\n",
        "def facemaskRemoval(img):\n",
        "      mask_g = \"/content/drive/MyDrive/cmp258/temp/MaskG\"\n",
        "      face_g = \"/content/drive/MyDrive/cmp258/temp/FaceG\"\n",
        "      face_D_region = \"/content/drive/MyDrive/cmp258/temp/face_D_region\"\n",
        "      face_D_whole = \"/content/drive/MyDrive/cmp258/temp/face_D_whole\"\n",
        "      mask_g_model = tf.keras.models.load_model(mask_g, compile=False)\n",
        "      face_g_model= tf.keras.models.load_model(face_g, compile=False)\n",
        "      face_D_whole_model= tf.keras.models.load_model(face_D_whole, compile=False)\n",
        "      face_D_region_model= tf.keras.models.load_model(face_D_region, compile=False)\n",
        "      vgg_model = VGG19_model()\n",
        "      try:\n",
        "        test = Load_model(mask_g_model, face_g_model, mask_checkpoint_dir=\"/content/drive/MyDrive/cmp258/temp/Checkpoints/mask32_checkpoints\", face_checkpoint_dir=\"/content/drive/MyDrive/temp/Checkpoints/face_checkpoints\")\n",
        "        test.load()\n",
        "        # st.image(img,channels=\"BGR\")\n",
        "      except:\n",
        "        print(\"some error\")\n",
        "      img = test.one_predict(img)\n",
        "\n",
        "# Define the Image function\n",
        "def predictImage(uploaded_file):\n",
        "    file_bytes = np.asarray(bytearray(uploaded_file.read()), dtype=np.uint8)\n",
        "    opencv_image = cv2.imdecode(file_bytes, 1)\n",
        "    #call pooja's function/model to check if mask exist\n",
        "    if (mask_predict(opencv_image) == 1):\n",
        "      st.write(\"Gender Classification: This person is a \",  gender_classification(opencv_image))\n",
        "    else:\n",
        "      facemaskRemoval(opencv_image)\n",
        "      removed_mask = cv2.imread('unmasked.jpeg')\n",
        "      #finally call the gender classificaiton function\n",
        "      st.write(\"Gender Classification: This person is a \",  gender_classification(opencv_image))\n",
        "\n",
        "# Create the Application\n",
        "st.title('Gender Classification, Facemask Detection, and Facemask Removal')\n",
        "uploaded_file = st.file_uploader(\"Choose a image file\", type=\"jpeg\")\n",
        "input = st.button('Predict')\n",
        "# Generate the prediction based on the users input\n",
        "if input:\n",
        "    st.image(uploaded_file, channels=\"BGR\",width=150)\n",
        "    predictImage(uploaded_file)"
      ]
    },
    {
      "cell_type": "code",
      "execution_count": null,
      "metadata": {
        "colab": {
          "background_save": true,
          "base_uri": "https://localhost:8080/"
        },
        "id": "6nvz6riTqtS8",
        "outputId": "52175233-cf37-4a5c-8a46-8552f9a11cea"
      },
      "outputs": [
        {
          "name": "stdout",
          "output_type": "stream",
          "text": [
            "2022-05-22 23:45:37.069 INFO    numexpr.utils: NumExpr defaulting to 2 threads.\n",
            "\u001b[K\u001b[?25hnpx: installed 22 in 2.719s\n",
            "your url is: https://green-suns-wonder-34-148-161-35.loca.lt\n",
            "\u001b[0m\n",
            "\u001b[34m\u001b[1m  You can now view your Streamlit app in your browser.\u001b[0m\n",
            "\u001b[0m\n",
            "\u001b[34m  Network URL: \u001b[0m\u001b[1mhttp://172.28.0.2:8501\u001b[0m\n",
            "\u001b[34m  External URL: \u001b[0m\u001b[1mhttp://34.148.161.35:8501\u001b[0m\n",
            "\u001b[0m\n",
            "2022-05-22 23:45:59.735477: W tensorflow/core/platform/cloud/google_auth_provider.cc:184] All attempts to get a Google authentication bearer token failed, returning an empty token. Retrieving token from files failed with \"NOT_FOUND: Could not locate the credentials file.\". Retrieving token from GCE failed with \"NOT_FOUND: Error executing an HTTP request: HTTP response code 404\".\n",
            "2022-05-22 23:46:04.379748: E tensorflow/stream_executor/cuda/cuda_driver.cc:271] failed call to cuInit: CUDA_ERROR_NO_DEVICE: no CUDA-capable device is detected\n",
            "2022-05-22 23:46:15.231 Detecting that an object or model or tf.train.Checkpoint is being deleted with unrestored values. See the following logs for the specific values in question. To silence these warnings, use `status.expect_partial()`. See https://www.tensorflow.org/api_docs/python/tf/train/Checkpoint#restorefor details about the status object returned by the restore function.\n",
            "2022-05-22 23:46:15.232 Value in checkpoint could not be found in the restored object: (root).generator_optimizer.iter\n",
            "2022-05-22 23:46:15.232 Value in checkpoint could not be found in the restored object: (root).generator_optimizer.beta_1\n",
            "2022-05-22 23:46:15.232 Value in checkpoint could not be found in the restored object: (root).generator_optimizer.beta_2\n",
            "2022-05-22 23:46:15.232 Value in checkpoint could not be found in the restored object: (root).generator_optimizer.decay\n",
            "2022-05-22 23:46:15.232 Value in checkpoint could not be found in the restored object: (root).generator_optimizer.learning_rate\n",
            "2022-05-22 23:46:42.641 Detecting that an object or model or tf.train.Checkpoint is being deleted with unrestored values. See the following logs for the specific values in question. To silence these warnings, use `status.expect_partial()`. See https://www.tensorflow.org/api_docs/python/tf/train/Checkpoint#restorefor details about the status object returned by the restore function.\n",
            "2022-05-22 23:46:42.641 Value in checkpoint could not be found in the restored object: (root).generator_optimizer.iter\n",
            "2022-05-22 23:46:42.641 Value in checkpoint could not be found in the restored object: (root).generator_optimizer.beta_1\n",
            "2022-05-22 23:46:42.641 Value in checkpoint could not be found in the restored object: (root).generator_optimizer.beta_2\n",
            "2022-05-22 23:46:42.641 Value in checkpoint could not be found in the restored object: (root).generator_optimizer.decay\n",
            "2022-05-22 23:46:42.641 Value in checkpoint could not be found in the restored object: (root).generator_optimizer.learning_rate\n",
            "2022-05-22 23:47:10.965 5 out of the last 5 calls to <function Model.make_predict_function.<locals>.predict_function at 0x7ff663ba3050> triggered tf.function retracing. Tracing is expensive and the excessive number of tracings could be due to (1) creating @tf.function repeatedly in a loop, (2) passing tensors with different shapes, (3) passing Python objects instead of tensors. For (1), please define your @tf.function outside of the loop. For (2), @tf.function has experimental_relax_shapes=True option that relaxes argument shapes that can avoid unnecessary retracing. For (3), please refer to https://www.tensorflow.org/guide/function#controlling_retracing and https://www.tensorflow.org/api_docs/python/tf/function for  more details.\n",
            "2022-05-22 23:47:19.929 Detecting that an object or model or tf.train.Checkpoint is being deleted with unrestored values. See the following logs for the specific values in question. To silence these warnings, use `status.expect_partial()`. See https://www.tensorflow.org/api_docs/python/tf/train/Checkpoint#restorefor details about the status object returned by the restore function.\n",
            "2022-05-22 23:47:19.930 Value in checkpoint could not be found in the restored object: (root).generator_optimizer.iter\n",
            "2022-05-22 23:47:19.930 Value in checkpoint could not be found in the restored object: (root).generator_optimizer.beta_1\n",
            "2022-05-22 23:47:19.930 Value in checkpoint could not be found in the restored object: (root).generator_optimizer.beta_2\n",
            "2022-05-22 23:47:19.930 Value in checkpoint could not be found in the restored object: (root).generator_optimizer.decay\n",
            "2022-05-22 23:47:19.930 Value in checkpoint could not be found in the restored object: (root).generator_optimizer.learning_rate\n",
            "2022-05-22 23:47:22.554 6 out of the last 6 calls to <function Model.make_predict_function.<locals>.predict_function at 0x7ff5da2328c0> triggered tf.function retracing. Tracing is expensive and the excessive number of tracings could be due to (1) creating @tf.function repeatedly in a loop, (2) passing tensors with different shapes, (3) passing Python objects instead of tensors. For (1), please define your @tf.function outside of the loop. For (2), @tf.function has experimental_relax_shapes=True option that relaxes argument shapes that can avoid unnecessary retracing. For (3), please refer to https://www.tensorflow.org/guide/function#controlling_retracing and https://www.tensorflow.org/api_docs/python/tf/function for  more details.\n"
          ]
        }
      ],
      "source": [
        "!streamlit run app.py & npx localtunnel --port 8501"
      ]
    }
  ],
  "metadata": {
    "colab": {
      "collapsed_sections": [],
      "name": "cmpe258_Streamlit_App.ipynb",
      "provenance": []
    },
    "kernelspec": {
      "display_name": "Python 3",
      "name": "python3"
    },
    "language_info": {
      "name": "python"
    }
  },
  "nbformat": 4,
  "nbformat_minor": 0
}